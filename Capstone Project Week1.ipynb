{
 "cells": [
  {
   "cell_type": "markdown",
   "metadata": {},
   "source": [
    "# Applied Data Science Capstone Project- For new kids Swimming school centre."
   ]
  },
  {
   "cell_type": "markdown",
   "metadata": {},
   "source": [
    "# 1). Introduction Section: "
   ]
  },
  {
   "cell_type": "markdown",
   "metadata": {},
   "source": [
    "### \"Recommendation of new kids swimming school centre in Richmond City Virginia State(USA)?\" \n",
    "\n",
    "# Problem to be solved through Data Science: \n",
    "### \"ABC swimming firm hired data scientist to analyze possible new swimming centre for expanding business in Richmond City\".\n",
    "\n",
    "According to firm \"Swimming lessons are a must for any homeowner with children and a swimming pool in Marietta. \n",
    " Pool safety should always be the number one priority of parents and it's never too early to teach your kids how to swim.  In addition to learning a life-saving technique, \n",
    "swimming lessons have several great benefits for both children and adults\" \n",
    "\n",
    "Richmond city :  is the capital of the Commonwealth of Virginia in the United States. \n",
    "It is the center of the Richmond Metropolitan Statistical Area (MSA) and the Greater Richmond Region. \n",
    "As of the 2010 census, the city's population was 204,214;[4] in 2016, \n",
    "the population was estimated to be 223,170,[4] making Richmond the fourth-most populous city in Virginia.\n",
    "The Richmond Metropolitan Area has a population of 1,260,029, the third-most populous metro in the state.\n",
    "Source: https://en.wikipedia.org/wiki/Richmond,_Virginia\n",
    "\n",
    "**Need to consider nearby locations like schools,residential area and other swimming schools to decide possible locations for opening a new swimming school.**"
   ]
  },
  {
   "cell_type": "markdown",
   "metadata": {},
   "source": [
    "# 2) Data Section :"
   ]
  },
  {
   "cell_type": "markdown",
   "metadata": {},
   "source": [
    "## Description of data that will solve the problem and the sources."
   ]
  },
  {
   "cell_type": "markdown",
   "metadata": {},
   "source": [
    "### 2.1 Need to fetch following data points to solve the request:"
   ]
  },
  {
   "cell_type": "markdown",
   "metadata": {},
   "source": [
    "a) List of Elementary schools list in Richmond city. Refrence from Wiki link: https://en.wikipedia.org/wiki/Richmond_Public_Schools#Elementary_schools\n",
    "\n",
    "We will concentrate on Elementary schools to identify kids population pattern near a neighbourhood. \n",
    "\n",
    "Downloaded content from both wiki links into CSV files.\n",
    "\n",
    "b) Extract list of existing swimming schools in Richmond city with corresponding address by using Foursquare data for  segmentation and clustering with the string search"
   ]
  },
  {
   "cell_type": "markdown",
   "metadata": {},
   "source": [
    "### 2.2 Uses of Data for finalizing a centre\n",
    "With the help of Foursquare and geopy data :                                                       \n",
    "    **a) Map the neighbouhoods/sub cities of Richmond City.** Foursquare map of Richmond displays this    \n",
    "         information.                                            \n",
    "    **b) Map the Elementary schools of Richmond City to identify the density  of kids population in the \n",
    "       neighbourhood.**                              \n",
    "    **c) Map the current list of swimming schools in Richmond City.**"
   ]
  },
  {
   "cell_type": "markdown",
   "metadata": {},
   "source": [
    "# 3) Methodology Section :"
   ]
  },
  {
   "cell_type": "code",
   "execution_count": 5,
   "metadata": {},
   "outputs": [],
   "source": [
    "# ## 4.\tResults section\n",
    "## Discussion Section \n",
    "## Conclusion Section. "
   ]
  },
  {
   "cell_type": "code",
   "execution_count": null,
   "metadata": {},
   "outputs": [],
   "source": []
  }
 ],
 "metadata": {
  "kernelspec": {
   "display_name": "Python 3",
   "language": "python",
   "name": "python3"
  },
  "language_info": {
   "codemirror_mode": {
    "name": "ipython",
    "version": 3
   },
   "file_extension": ".py",
   "mimetype": "text/x-python",
   "name": "python",
   "nbconvert_exporter": "python",
   "pygments_lexer": "ipython3",
   "version": "3.6.6"
  }
 },
 "nbformat": 4,
 "nbformat_minor": 2
}

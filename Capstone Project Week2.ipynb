{
 "cells": [
  {
   "cell_type": "markdown",
   "metadata": {},
   "source": [
    "# Applied Data Science Capstone Project- For new kids Swimming school centre."
   ]
  },
  {
   "cell_type": "markdown",
   "metadata": {},
   "source": [
    "# 1). Introduction Section: "
   ]
  },
  {
   "cell_type": "markdown",
   "metadata": {},
   "source": [
    "### \"Recommendation of new kids swimming school centre in Richmond City Virginia State(USA)?\" \n",
    "\n",
    "# Problem to be solved through Data Science: \n",
    "### \"ABC swimming firm hired data scientist to analyze possible new swimming centre for expanding business in Richmond City\".\n",
    "\n",
    "According to firm \"Swimming lessons are a must for any homeowner with children and a swimming pool in Marietta. \n",
    " Pool safety should always be the number one priority of parents and it's never too early to teach your kids how to swim.  In addition to learning a life-saving technique, \n",
    "swimming lessons have several great benefits for both children and adults\" \n",
    "\n",
    "Richmond city :  is the capital of the Commonwealth of Virginia in the United States. \n",
    "It is the center of the Richmond Metropolitan Statistical Area (MSA) and the Greater Richmond Region. \n",
    "As of the 2010 census, the city's population was 204,214;[4] in 2016, \n",
    "the population was estimated to be 223,170,[4] making Richmond the fourth-most populous city in Virginia.\n",
    "The Richmond Metropolitan Area has a population of 1,260,029, the third-most populous metro in the state.\n",
    "Source: https://en.wikipedia.org/wiki/Richmond,_Virginia\n",
    "\n",
    "**Need to consider nearby locations like schools,residential houses and other swimming schools to decide possible locations for opening a new swimming school.**\n"
   ]
  },
  {
   "cell_type": "markdown",
   "metadata": {},
   "source": [
    "# 2) Data Section :"
   ]
  },
  {
   "cell_type": "markdown",
   "metadata": {},
   "source": [
    "## Description of data that will solve the problem and the sources."
   ]
  },
  {
   "cell_type": "markdown",
   "metadata": {},
   "source": [
    "### 2.1 Need to fetch following data points to solve the request:"
   ]
  },
  {
   "cell_type": "markdown",
   "metadata": {},
   "source": [
    " \n",
    "a) List of Elementary schools list in Richmond city. Refrence from Wiki link: https://en.wikipedia.org/wiki/Richmond_Public_Schools#Elementary_schools\n",
    "\n",
    "We will concentrate on Elementary schools to identify kids population pattern near a neighbourhood. \n",
    "\n",
    "Downloaded content from both wiki links into CSV files.\n",
    "\n",
    "b) Extract list of existing swimming schools in Richmond city with corresponding address by using Foursquare data for  segmentation and clustering with the string search\n"
   ]
  },
  {
   "cell_type": "markdown",
   "metadata": {},
   "source": [
    "### 2.2 Uses of Data for finalizing a centre\n",
    "With the help of Foursquare and geopy data :                                                       \n",
    "    **a) Map the neighbouhoods/sub cities of Richmond City.** Foursquare map of Richmond displays this    \n",
    "         information.                                            \n",
    "    **b) Map the Elementary schools of Richmond City to identify the density  of kids population in the \n",
    "       neighbourhood.**                              \n",
    "    **c) Map the current list of swimming schools in Richmond City.**\n",
    "    \n",
    "    \n"
   ]
  },
  {
   "cell_type": "markdown",
   "metadata": {},
   "source": [
    "# 3) Methodology Section :"
   ]
  },
  {
   "cell_type": "code",
   "execution_count": 1,
   "metadata": {},
   "outputs": [
    {
     "name": "stdout",
     "output_type": "stream",
     "text": [
      "Solving environment: done\n",
      "\n",
      "## Package Plan ##\n",
      "\n",
      "  environment location: /home/jupyterlab/conda\n",
      "\n",
      "  added / updated specs: \n",
      "    - geopy\n",
      "\n",
      "\n",
      "The following packages will be downloaded:\n",
      "\n",
      "    package                    |            build\n",
      "    ---------------------------|-----------------\n",
      "    geopy-1.18.1               |             py_0          51 KB  conda-forge\n",
      "    geographiclib-1.49         |             py_0          32 KB  conda-forge\n",
      "    conda-4.6.1                |           py36_0         878 KB  conda-forge\n",
      "    ------------------------------------------------------------\n",
      "                                           Total:         962 KB\n",
      "\n",
      "The following NEW packages will be INSTALLED:\n",
      "\n",
      "    geographiclib: 1.49-py_0        conda-forge\n",
      "\n",
      "The following packages will be UPDATED:\n",
      "\n",
      "    conda:         4.5.12-py36_1000 conda-forge --> 4.6.1-py36_0 conda-forge\n",
      "    geopy:         1.11.0-py36_0    conda-forge --> 1.18.1-py_0  conda-forge\n",
      "\n",
      "\n",
      "Downloading and Extracting Packages\n",
      "geopy-1.18.1         | 51 KB     | ##################################### | 100% \n",
      "geographiclib-1.49   | 32 KB     | ##################################### | 100% \n",
      "conda-4.6.1          | 878 KB    | ##################################### | 100% \n",
      "Preparing transaction: done\n",
      "Verifying transaction: done\n",
      "Executing transaction: done\n",
      "Collecting package metadata: done\n",
      "Solving environment: done\n",
      "\n",
      "# All requested packages already installed.\n",
      "\n",
      "Folium installed\n",
      "Libraries imported.\n"
     ]
    }
   ],
   "source": [
    "# # Importing all necessary libraries for executing project. \n",
    "!conda install -c conda-forge geopy --yes \n",
    "from geopy.geocoders import Nominatim # module to convert an address into latitude and longitude values\n",
    "import requests # library to handle requests\n",
    "import pandas as pd # library for data analsysis\n",
    "import numpy as np # library to handle data in a vectorized manner\n",
    "import random # library for random number generation\n",
    "\n",
    "# libraries for displaying images\n",
    "from IPython.display import Image \n",
    "from IPython.core.display import HTML \n",
    "    \n",
    "# tranforming json file into a pandas dataframe library\n",
    "from pandas.io.json import json_normalize\n",
    "\n",
    "!conda install -c conda-forge folium=0.5.0 --yes\n",
    "import folium # plotting library\n",
    "\n",
    "print('Folium installed')\n",
    "print('Libraries imported.')"
   ]
  },
  {
   "cell_type": "markdown",
   "metadata": {},
   "source": [
    "## To fetch latitude and Longitude of Richmond City to build map and map swim schools"
   ]
  },
  {
   "cell_type": "code",
   "execution_count": 2,
   "metadata": {},
   "outputs": [
    {
     "name": "stderr",
     "output_type": "stream",
     "text": [
      "/home/jupyterlab/conda/lib/python3.6/site-packages/ipykernel_launcher.py:4: DeprecationWarning: Using Nominatim with the default \"geopy/1.18.1\" `user_agent` is strongly discouraged, as it violates Nominatim's ToS https://operations.osmfoundation.org/policies/nominatim/ and may possibly cause 403 and 429 HTTP errors. Please specify a custom `user_agent` with `Nominatim(user_agent=\"my-application\")` or by overriding the default `user_agent`: `geopy.geocoders.options.default_user_agent = \"my-application\"`. In geopy 2.0 this will become an exception.\n",
      "  after removing the cwd from sys.path.\n"
     ]
    },
    {
     "name": "stdout",
     "output_type": "stream",
     "text": [
      "The geograpical coordinate of Richmond City are 37.5385087, -77.43428.\n"
     ]
    }
   ],
   "source": [
    "# Fetch latitude and longitude of Richmond using Nominatim. \n",
    "address = 'Richmond, VA'\n",
    "\n",
    "geolocator = Nominatim()\n",
    "location = geolocator.geocode(address)\n",
    "latitude = location.latitude\n",
    "longitude = location.longitude\n",
    "print('The geograpical coordinate of Richmond City are {}, {}.'.format(latitude, longitude))\n"
   ]
  },
  {
   "cell_type": "code",
   "execution_count": 3,
   "metadata": {},
   "outputs": [],
   "source": [
    "## Foursquare info for fetching data. Credentials info removed as this report goes into web\n",
    "\n",
    "CLIENT_ID = 'XXXXXXXXXXXXXXXXXXXXX' # your Foursquare ID\n",
    "CLIENT_SECRET = 'XXXXXXXXXXXXXXXXXXXXXX' # your Foursquare Secret\n",
    "VERSION = '20190124'\n",
    "LIMIT = 30\n"
   ]
  },
  {
   "cell_type": "markdown",
   "metadata": {},
   "source": [
    "## Extract list of existing swimming schools in Richmond city with corresponding address by using Foursquare data for segmentation and clustering"
   ]
  },
  {
   "cell_type": "code",
   "execution_count": 4,
   "metadata": {},
   "outputs": [
    {
     "name": "stdout",
     "output_type": "stream",
     "text": [
      "Aquatics Swim school .... OK!\n"
     ]
    }
   ],
   "source": [
    "# search list of Swim schools with the key word. \n",
    "search_query = 'Aquatics Swim school'\n",
    "print(search_query + ' .... OK!')\n",
    "\n"
   ]
  },
  {
   "cell_type": "code",
   "execution_count": 5,
   "metadata": {},
   "outputs": [],
   "source": [
    "url = 'https://api.foursquare.com/v2/venues/search?client_id={}&client_secret={}&ll={},{}&v={}&query={}'.format(CLIENT_ID, CLIENT_SECRET, latitude, longitude, VERSION, search_query)\n",
    "\n",
    "results = requests.get(url).json()\n",
    "\n"
   ]
  },
  {
   "cell_type": "code",
   "execution_count": 6,
   "metadata": {},
   "outputs": [
    {
     "data": {
      "text/html": [
       "<div>\n",
       "<style scoped>\n",
       "    .dataframe tbody tr th:only-of-type {\n",
       "        vertical-align: middle;\n",
       "    }\n",
       "\n",
       "    .dataframe tbody tr th {\n",
       "        vertical-align: top;\n",
       "    }\n",
       "\n",
       "    .dataframe thead th {\n",
       "        text-align: right;\n",
       "    }\n",
       "</style>\n",
       "<table border=\"1\" class=\"dataframe\">\n",
       "  <thead>\n",
       "    <tr style=\"text-align: right;\">\n",
       "      <th></th>\n",
       "      <th>categories</th>\n",
       "      <th>hasPerk</th>\n",
       "      <th>id</th>\n",
       "      <th>location.address</th>\n",
       "      <th>location.cc</th>\n",
       "      <th>location.city</th>\n",
       "      <th>location.country</th>\n",
       "      <th>location.distance</th>\n",
       "      <th>location.formattedAddress</th>\n",
       "      <th>location.labeledLatLngs</th>\n",
       "      <th>location.lat</th>\n",
       "      <th>location.lng</th>\n",
       "      <th>location.postalCode</th>\n",
       "      <th>location.state</th>\n",
       "      <th>name</th>\n",
       "      <th>referralId</th>\n",
       "      <th>venuePage.id</th>\n",
       "    </tr>\n",
       "  </thead>\n",
       "  <tbody>\n",
       "    <tr>\n",
       "      <th>0</th>\n",
       "      <td>[{'id': '52e81612bcbc57f1066b7a44', 'name': 'S...</td>\n",
       "      <td>False</td>\n",
       "      <td>5a4c57a009e283441f774987</td>\n",
       "      <td>9782 Gayton Rd  Unit 81B</td>\n",
       "      <td>US</td>\n",
       "      <td>Richmond</td>\n",
       "      <td>United States</td>\n",
       "      <td>15972</td>\n",
       "      <td>[9782 Gayton Rd  Unit 81B, Richmond, VA 23238,...</td>\n",
       "      <td>[{'label': 'display', 'lat': 37.6066, 'lng': -...</td>\n",
       "      <td>37.606600</td>\n",
       "      <td>-77.593630</td>\n",
       "      <td>23238</td>\n",
       "      <td>VA</td>\n",
       "      <td>Goldfish Swim School - Richmond West End</td>\n",
       "      <td>v-1548569120</td>\n",
       "      <td>NaN</td>\n",
       "    </tr>\n",
       "    <tr>\n",
       "      <th>1</th>\n",
       "      <td>[{'id': '4bf58dd8d48988d15e941735', 'name': 'P...</td>\n",
       "      <td>False</td>\n",
       "      <td>4fcd192fe4b0c30c4b808bb5</td>\n",
       "      <td>7508 W Broad St</td>\n",
       "      <td>US</td>\n",
       "      <td>Henrico County</td>\n",
       "      <td>United States</td>\n",
       "      <td>11859</td>\n",
       "      <td>[7508 W Broad St, Henrico County, VA 23294, Un...</td>\n",
       "      <td>[{'label': 'display', 'lat': 37.61949674888385...</td>\n",
       "      <td>37.619497</td>\n",
       "      <td>-77.521620</td>\n",
       "      <td>23294</td>\n",
       "      <td>VA</td>\n",
       "      <td>Aqua-Tots Swim Schools Richmond</td>\n",
       "      <td>v-1548569120</td>\n",
       "      <td>NaN</td>\n",
       "    </tr>\n",
       "    <tr>\n",
       "      <th>2</th>\n",
       "      <td>[{'id': '4bf58dd8d48988d15e941735', 'name': 'P...</td>\n",
       "      <td>False</td>\n",
       "      <td>51c5ca0d498e32a313478d28</td>\n",
       "      <td>Carmia Way</td>\n",
       "      <td>US</td>\n",
       "      <td>Midlothian</td>\n",
       "      <td>United States</td>\n",
       "      <td>15244</td>\n",
       "      <td>[Carmia Way, Midlothian, VA, United States]</td>\n",
       "      <td>[{'label': 'display', 'lat': 37.50817788920052...</td>\n",
       "      <td>37.508178</td>\n",
       "      <td>-77.602666</td>\n",
       "      <td>NaN</td>\n",
       "      <td>VA</td>\n",
       "      <td>Aqua-tots Swim School</td>\n",
       "      <td>v-1548569120</td>\n",
       "      <td>NaN</td>\n",
       "    </tr>\n",
       "    <tr>\n",
       "      <th>3</th>\n",
       "      <td>[{'id': '52e81612bcbc57f1066b7a44', 'name': 'S...</td>\n",
       "      <td>False</td>\n",
       "      <td>5b20680e4a7aae002c591247</td>\n",
       "      <td>1205 Carmia Way</td>\n",
       "      <td>US</td>\n",
       "      <td>North Chesterfield</td>\n",
       "      <td>United States</td>\n",
       "      <td>15241</td>\n",
       "      <td>[1205 Carmia Way, North Chesterfield, VA 23235...</td>\n",
       "      <td>[{'label': 'display', 'lat': 37.50833348796218...</td>\n",
       "      <td>37.508333</td>\n",
       "      <td>-77.602675</td>\n",
       "      <td>23235</td>\n",
       "      <td>VA</td>\n",
       "      <td>Aqua-Tots Swim Schools Midlothian</td>\n",
       "      <td>v-1548569120</td>\n",
       "      <td>NaN</td>\n",
       "    </tr>\n",
       "    <tr>\n",
       "      <th>4</th>\n",
       "      <td>[{'id': '4bf58dd8d48988d15e941735', 'name': 'P...</td>\n",
       "      <td>False</td>\n",
       "      <td>5165e10de4b068ba368840b9</td>\n",
       "      <td>NaN</td>\n",
       "      <td>US</td>\n",
       "      <td>NaN</td>\n",
       "      <td>United States</td>\n",
       "      <td>11156</td>\n",
       "      <td>[Virginia, United States]</td>\n",
       "      <td>[{'label': 'display', 'lat': 37.44954334949617...</td>\n",
       "      <td>37.449543</td>\n",
       "      <td>-77.492450</td>\n",
       "      <td>NaN</td>\n",
       "      <td>Virginia</td>\n",
       "      <td>Collegiate School Aquatics Center</td>\n",
       "      <td>v-1548569120</td>\n",
       "      <td>97367121</td>\n",
       "    </tr>\n",
       "  </tbody>\n",
       "</table>\n",
       "</div>"
      ],
      "text/plain": [
       "                                          categories  hasPerk  \\\n",
       "0  [{'id': '52e81612bcbc57f1066b7a44', 'name': 'S...    False   \n",
       "1  [{'id': '4bf58dd8d48988d15e941735', 'name': 'P...    False   \n",
       "2  [{'id': '4bf58dd8d48988d15e941735', 'name': 'P...    False   \n",
       "3  [{'id': '52e81612bcbc57f1066b7a44', 'name': 'S...    False   \n",
       "4  [{'id': '4bf58dd8d48988d15e941735', 'name': 'P...    False   \n",
       "\n",
       "                         id          location.address location.cc  \\\n",
       "0  5a4c57a009e283441f774987  9782 Gayton Rd  Unit 81B          US   \n",
       "1  4fcd192fe4b0c30c4b808bb5           7508 W Broad St          US   \n",
       "2  51c5ca0d498e32a313478d28                Carmia Way          US   \n",
       "3  5b20680e4a7aae002c591247           1205 Carmia Way          US   \n",
       "4  5165e10de4b068ba368840b9                       NaN          US   \n",
       "\n",
       "        location.city location.country  location.distance  \\\n",
       "0            Richmond    United States              15972   \n",
       "1      Henrico County    United States              11859   \n",
       "2          Midlothian    United States              15244   \n",
       "3  North Chesterfield    United States              15241   \n",
       "4                 NaN    United States              11156   \n",
       "\n",
       "                           location.formattedAddress  \\\n",
       "0  [9782 Gayton Rd  Unit 81B, Richmond, VA 23238,...   \n",
       "1  [7508 W Broad St, Henrico County, VA 23294, Un...   \n",
       "2        [Carmia Way, Midlothian, VA, United States]   \n",
       "3  [1205 Carmia Way, North Chesterfield, VA 23235...   \n",
       "4                          [Virginia, United States]   \n",
       "\n",
       "                             location.labeledLatLngs  location.lat  \\\n",
       "0  [{'label': 'display', 'lat': 37.6066, 'lng': -...     37.606600   \n",
       "1  [{'label': 'display', 'lat': 37.61949674888385...     37.619497   \n",
       "2  [{'label': 'display', 'lat': 37.50817788920052...     37.508178   \n",
       "3  [{'label': 'display', 'lat': 37.50833348796218...     37.508333   \n",
       "4  [{'label': 'display', 'lat': 37.44954334949617...     37.449543   \n",
       "\n",
       "   location.lng location.postalCode location.state  \\\n",
       "0    -77.593630               23238             VA   \n",
       "1    -77.521620               23294             VA   \n",
       "2    -77.602666                 NaN             VA   \n",
       "3    -77.602675               23235             VA   \n",
       "4    -77.492450                 NaN       Virginia   \n",
       "\n",
       "                                       name    referralId venuePage.id  \n",
       "0  Goldfish Swim School - Richmond West End  v-1548569120          NaN  \n",
       "1           Aqua-Tots Swim Schools Richmond  v-1548569120          NaN  \n",
       "2                     Aqua-tots Swim School  v-1548569120          NaN  \n",
       "3         Aqua-Tots Swim Schools Midlothian  v-1548569120          NaN  \n",
       "4         Collegiate School Aquatics Center  v-1548569120     97367121  "
      ]
     },
     "execution_count": 6,
     "metadata": {},
     "output_type": "execute_result"
    }
   ],
   "source": [
    "## results fetched in JSON format, need to format to convert into DATAFRAME to view data.  \n",
    "## function to extract categories\n",
    "\n",
    "def get_category_type(row):\n",
    "    try:\n",
    "        categories_list = row['categories']\n",
    "    except:\n",
    "        categories_list = row['venue.categories']\n",
    "        \n",
    "    if len(categories_list) == 0:\n",
    "        return None\n",
    "    else:\n",
    "        return categories_list[0]['name']\n",
    "\n",
    "\n",
    "centres = results['response']['venues']\n",
    "swim_centres = json_normalize(centres) # flatten JSON\n",
    "\n",
    "swim_centres.head()\n",
    "    \n"
   ]
  },
  {
   "cell_type": "code",
   "execution_count": 7,
   "metadata": {},
   "outputs": [
    {
     "data": {
      "text/plain": [
       "(8, 4)"
      ]
     },
     "execution_count": 7,
     "metadata": {},
     "output_type": "execute_result"
    }
   ],
   "source": [
    "# filter columns\n",
    "# filtered_columns = ['venue.name', 'venue.categories', 'venue.location.lat', 'venue.location.lng']\n",
    "filtered_columns = ['name', 'categories', 'location.lat', 'location.lng']\n",
    "\n",
    "swim_centres =swim_centres.loc[:, filtered_columns]\n",
    "# filter the category for each row\n",
    "swim_centres['categories'] = swim_centres.apply(get_category_type, axis=1)\n",
    "# clean columns\n",
    "swim_centres.columns = [col.split(\".\")[-1] for col in swim_centres.columns]\n",
    "\n",
    "swim_centres.shape"
   ]
  },
  {
   "cell_type": "markdown",
   "metadata": {},
   "source": [
    "## List of current Swim schools in RICHMOND CITY \n"
   ]
  },
  {
   "cell_type": "code",
   "execution_count": 8,
   "metadata": {},
   "outputs": [
    {
     "data": {
      "text/html": [
       "<div>\n",
       "<style scoped>\n",
       "    .dataframe tbody tr th:only-of-type {\n",
       "        vertical-align: middle;\n",
       "    }\n",
       "\n",
       "    .dataframe tbody tr th {\n",
       "        vertical-align: top;\n",
       "    }\n",
       "\n",
       "    .dataframe thead th {\n",
       "        text-align: right;\n",
       "    }\n",
       "</style>\n",
       "<table border=\"1\" class=\"dataframe\">\n",
       "  <thead>\n",
       "    <tr style=\"text-align: right;\">\n",
       "      <th></th>\n",
       "      <th>name</th>\n",
       "      <th>categories</th>\n",
       "      <th>lat</th>\n",
       "      <th>lng</th>\n",
       "    </tr>\n",
       "  </thead>\n",
       "  <tbody>\n",
       "    <tr>\n",
       "      <th>0</th>\n",
       "      <td>Goldfish Swim School - Richmond West End</td>\n",
       "      <td>Swim School</td>\n",
       "      <td>37.606600</td>\n",
       "      <td>-77.593630</td>\n",
       "    </tr>\n",
       "    <tr>\n",
       "      <th>1</th>\n",
       "      <td>Aqua-Tots Swim Schools Richmond</td>\n",
       "      <td>Pool</td>\n",
       "      <td>37.619497</td>\n",
       "      <td>-77.521620</td>\n",
       "    </tr>\n",
       "    <tr>\n",
       "      <th>2</th>\n",
       "      <td>Aqua-tots Swim School</td>\n",
       "      <td>Pool</td>\n",
       "      <td>37.508178</td>\n",
       "      <td>-77.602666</td>\n",
       "    </tr>\n",
       "    <tr>\n",
       "      <th>3</th>\n",
       "      <td>Aqua-Tots Swim Schools Midlothian</td>\n",
       "      <td>Swim School</td>\n",
       "      <td>37.508333</td>\n",
       "      <td>-77.602675</td>\n",
       "    </tr>\n",
       "    <tr>\n",
       "      <th>4</th>\n",
       "      <td>Collegiate School Aquatics Center</td>\n",
       "      <td>Pool</td>\n",
       "      <td>37.449543</td>\n",
       "      <td>-77.492450</td>\n",
       "    </tr>\n",
       "    <tr>\n",
       "      <th>5</th>\n",
       "      <td>Morgan Swim School - Munsey</td>\n",
       "      <td>Gym Pool</td>\n",
       "      <td>37.698833</td>\n",
       "      <td>-77.563333</td>\n",
       "    </tr>\n",
       "    <tr>\n",
       "      <th>6</th>\n",
       "      <td>Kings Dominion</td>\n",
       "      <td>Theme Park</td>\n",
       "      <td>37.841883</td>\n",
       "      <td>-77.445381</td>\n",
       "    </tr>\n",
       "    <tr>\n",
       "      <th>7</th>\n",
       "      <td>Morgan Swim School (MSS)</td>\n",
       "      <td>Pool</td>\n",
       "      <td>37.761581</td>\n",
       "      <td>-77.731801</td>\n",
       "    </tr>\n",
       "  </tbody>\n",
       "</table>\n",
       "</div>"
      ],
      "text/plain": [
       "                                       name   categories        lat        lng\n",
       "0  Goldfish Swim School - Richmond West End  Swim School  37.606600 -77.593630\n",
       "1           Aqua-Tots Swim Schools Richmond         Pool  37.619497 -77.521620\n",
       "2                     Aqua-tots Swim School         Pool  37.508178 -77.602666\n",
       "3         Aqua-Tots Swim Schools Midlothian  Swim School  37.508333 -77.602675\n",
       "4         Collegiate School Aquatics Center         Pool  37.449543 -77.492450\n",
       "5               Morgan Swim School - Munsey     Gym Pool  37.698833 -77.563333\n",
       "6                            Kings Dominion   Theme Park  37.841883 -77.445381\n",
       "7                  Morgan Swim School (MSS)         Pool  37.761581 -77.731801"
      ]
     },
     "execution_count": 8,
     "metadata": {},
     "output_type": "execute_result"
    }
   ],
   "source": [
    "# Display DATAFRAME containing list of schools. \n",
    "swim_centres"
   ]
  },
  {
   "cell_type": "code",
   "execution_count": 9,
   "metadata": {},
   "outputs": [
    {
     "data": {
      "text/html": [
       "<div>\n",
       "<style scoped>\n",
       "    .dataframe tbody tr th:only-of-type {\n",
       "        vertical-align: middle;\n",
       "    }\n",
       "\n",
       "    .dataframe tbody tr th {\n",
       "        vertical-align: top;\n",
       "    }\n",
       "\n",
       "    .dataframe thead th {\n",
       "        text-align: right;\n",
       "    }\n",
       "</style>\n",
       "<table border=\"1\" class=\"dataframe\">\n",
       "  <thead>\n",
       "    <tr style=\"text-align: right;\">\n",
       "      <th></th>\n",
       "      <th>name</th>\n",
       "      <th>categories</th>\n",
       "      <th>lat</th>\n",
       "      <th>lng</th>\n",
       "    </tr>\n",
       "  </thead>\n",
       "  <tbody>\n",
       "    <tr>\n",
       "      <th>0</th>\n",
       "      <td>Goldfish Swim School - Richmond West End</td>\n",
       "      <td>Swim School</td>\n",
       "      <td>37.606600</td>\n",
       "      <td>-77.593630</td>\n",
       "    </tr>\n",
       "    <tr>\n",
       "      <th>1</th>\n",
       "      <td>Aqua-Tots Swim Schools Richmond</td>\n",
       "      <td>Pool</td>\n",
       "      <td>37.619497</td>\n",
       "      <td>-77.521620</td>\n",
       "    </tr>\n",
       "    <tr>\n",
       "      <th>2</th>\n",
       "      <td>Aqua-tots Swim School</td>\n",
       "      <td>Pool</td>\n",
       "      <td>37.508178</td>\n",
       "      <td>-77.602666</td>\n",
       "    </tr>\n",
       "    <tr>\n",
       "      <th>3</th>\n",
       "      <td>Aqua-Tots Swim Schools Midlothian</td>\n",
       "      <td>Swim School</td>\n",
       "      <td>37.508333</td>\n",
       "      <td>-77.602675</td>\n",
       "    </tr>\n",
       "    <tr>\n",
       "      <th>4</th>\n",
       "      <td>Collegiate School Aquatics Center</td>\n",
       "      <td>Pool</td>\n",
       "      <td>37.449543</td>\n",
       "      <td>-77.492450</td>\n",
       "    </tr>\n",
       "    <tr>\n",
       "      <th>5</th>\n",
       "      <td>Morgan Swim School - Munsey</td>\n",
       "      <td>Gym Pool</td>\n",
       "      <td>37.698833</td>\n",
       "      <td>-77.563333</td>\n",
       "    </tr>\n",
       "    <tr>\n",
       "      <th>7</th>\n",
       "      <td>Morgan Swim School (MSS)</td>\n",
       "      <td>Pool</td>\n",
       "      <td>37.761581</td>\n",
       "      <td>-77.731801</td>\n",
       "    </tr>\n",
       "  </tbody>\n",
       "</table>\n",
       "</div>"
      ],
      "text/plain": [
       "                                       name   categories        lat        lng\n",
       "0  Goldfish Swim School - Richmond West End  Swim School  37.606600 -77.593630\n",
       "1           Aqua-Tots Swim Schools Richmond         Pool  37.619497 -77.521620\n",
       "2                     Aqua-tots Swim School         Pool  37.508178 -77.602666\n",
       "3         Aqua-Tots Swim Schools Midlothian  Swim School  37.508333 -77.602675\n",
       "4         Collegiate School Aquatics Center         Pool  37.449543 -77.492450\n",
       "5               Morgan Swim School - Munsey     Gym Pool  37.698833 -77.563333\n",
       "7                  Morgan Swim School (MSS)         Pool  37.761581 -77.731801"
      ]
     },
     "execution_count": 9,
     "metadata": {},
     "output_type": "execute_result"
    }
   ],
   "source": [
    "# Total 8 centres that were found by using Foursquare data for segmentation and clustering. \n",
    "# Out of 8 centres, one of them is Theme Park, drop the theme park catgory. \n",
    "\n",
    "swim_centres = swim_centres[swim_centres.categories != 'Theme Park']\n",
    "swim_centres"
   ]
  },
  {
   "cell_type": "markdown",
   "metadata": {},
   "source": [
    "## RICHMOND Elementary Schools Data and Mapping "
   ]
  },
  {
   "cell_type": "markdown",
   "metadata": {},
   "source": [
    "### **School list from WIKI page is converted into .CSV file. Around 15 Elementary schools are listed for analysis using FOURSQUARE.**"
   ]
  },
  {
   "cell_type": "code",
   "execution_count": 10,
   "metadata": {},
   "outputs": [
    {
     "data": {
      "text/html": [
       "<div>\n",
       "<style scoped>\n",
       "    .dataframe tbody tr th:only-of-type {\n",
       "        vertical-align: middle;\n",
       "    }\n",
       "\n",
       "    .dataframe tbody tr th {\n",
       "        vertical-align: top;\n",
       "    }\n",
       "\n",
       "    .dataframe thead th {\n",
       "        text-align: right;\n",
       "    }\n",
       "</style>\n",
       "<table border=\"1\" class=\"dataframe\">\n",
       "  <thead>\n",
       "    <tr style=\"text-align: right;\">\n",
       "      <th></th>\n",
       "      <th>Elementary schools</th>\n",
       "      <th>School Address</th>\n",
       "      <th>Lat</th>\n",
       "      <th>Long</th>\n",
       "    </tr>\n",
       "  </thead>\n",
       "  <tbody>\n",
       "    <tr>\n",
       "      <th>0</th>\n",
       "      <td>Barack Obama Elementary School</td>\n",
       "      <td>Barack Obama Elementary School , Richmond City,VA</td>\n",
       "      <td></td>\n",
       "      <td></td>\n",
       "    </tr>\n",
       "    <tr>\n",
       "      <th>1</th>\n",
       "      <td>Bellevue Elementary School</td>\n",
       "      <td>Bellevue Elementary School, Richmond City,VA</td>\n",
       "      <td></td>\n",
       "      <td></td>\n",
       "    </tr>\n",
       "    <tr>\n",
       "      <th>2</th>\n",
       "      <td>Blackwell Elementary School</td>\n",
       "      <td>Blackwell Elementary School , Richmond City,VA</td>\n",
       "      <td></td>\n",
       "      <td></td>\n",
       "    </tr>\n",
       "    <tr>\n",
       "      <th>3</th>\n",
       "      <td>Broad Rock Elementary School</td>\n",
       "      <td>Broad Rock Elementary School , Richmond City,VA</td>\n",
       "      <td></td>\n",
       "      <td></td>\n",
       "    </tr>\n",
       "    <tr>\n",
       "      <th>4</th>\n",
       "      <td>Fairfield Court Elementary School</td>\n",
       "      <td>Fairfield Court Elementary School , Richmond C...</td>\n",
       "      <td></td>\n",
       "      <td></td>\n",
       "    </tr>\n",
       "  </tbody>\n",
       "</table>\n",
       "</div>"
      ],
      "text/plain": [
       "                  Elementary schools  \\\n",
       "0    Barack Obama Elementary School    \n",
       "1         Bellevue Elementary School   \n",
       "2        Blackwell Elementary School   \n",
       "3       Broad Rock Elementary School   \n",
       "4  Fairfield Court Elementary School   \n",
       "\n",
       "                                      School Address Lat Long  \n",
       "0  Barack Obama Elementary School , Richmond City,VA           \n",
       "1       Bellevue Elementary School, Richmond City,VA           \n",
       "2     Blackwell Elementary School , Richmond City,VA           \n",
       "3    Broad Rock Elementary School , Richmond City,VA           \n",
       "4  Fairfield Court Elementary School , Richmond C...           "
      ]
     },
     "execution_count": 10,
     "metadata": {},
     "output_type": "execute_result"
    }
   ],
   "source": [
    "Elem_School = pd.read_csv('Rich_Elem_School_List.csv')\n",
    "Elem_School[\"Lat\"]=''\n",
    "Elem_School[\"Long\"]=''\n",
    "Elem_School.head()\n"
   ]
  },
  {
   "cell_type": "code",
   "execution_count": 11,
   "metadata": {},
   "outputs": [
    {
     "name": "stdout",
     "output_type": "stream",
     "text": [
      "completed\n"
     ]
    },
    {
     "data": {
      "text/html": [
       "<div>\n",
       "<style scoped>\n",
       "    .dataframe tbody tr th:only-of-type {\n",
       "        vertical-align: middle;\n",
       "    }\n",
       "\n",
       "    .dataframe tbody tr th {\n",
       "        vertical-align: top;\n",
       "    }\n",
       "\n",
       "    .dataframe thead th {\n",
       "        text-align: right;\n",
       "    }\n",
       "</style>\n",
       "<table border=\"1\" class=\"dataframe\">\n",
       "  <thead>\n",
       "    <tr style=\"text-align: right;\">\n",
       "      <th></th>\n",
       "      <th>Elementary schools</th>\n",
       "      <th>School Address</th>\n",
       "      <th>Lat</th>\n",
       "      <th>Long</th>\n",
       "    </tr>\n",
       "  </thead>\n",
       "  <tbody>\n",
       "    <tr>\n",
       "      <th>0</th>\n",
       "      <td>Barack Obama Elementary School</td>\n",
       "      <td>Barack Obama Elementary School , Richmond City,VA</td>\n",
       "      <td>37.5738</td>\n",
       "      <td>-77.4355</td>\n",
       "    </tr>\n",
       "    <tr>\n",
       "      <th>1</th>\n",
       "      <td>Bellevue Elementary School</td>\n",
       "      <td>Bellevue Elementary School, Richmond City,VA</td>\n",
       "      <td>37.5314</td>\n",
       "      <td>-77.4212</td>\n",
       "    </tr>\n",
       "    <tr>\n",
       "      <th>2</th>\n",
       "      <td>Blackwell Elementary School</td>\n",
       "      <td>Blackwell Elementary School , Richmond City,VA</td>\n",
       "      <td>37.5167</td>\n",
       "      <td>-77.4434</td>\n",
       "    </tr>\n",
       "    <tr>\n",
       "      <th>3</th>\n",
       "      <td>Broad Rock Elementary School</td>\n",
       "      <td>Broad Rock Elementary School , Richmond City,VA</td>\n",
       "      <td>37.4764</td>\n",
       "      <td>-77.4787</td>\n",
       "    </tr>\n",
       "    <tr>\n",
       "      <th>4</th>\n",
       "      <td>Fairfield Court Elementary School</td>\n",
       "      <td>Fairfield Court Elementary School , Richmond C...</td>\n",
       "      <td>37.55</td>\n",
       "      <td>-77.4013</td>\n",
       "    </tr>\n",
       "    <tr>\n",
       "      <th>5</th>\n",
       "      <td>John B. Cary Elementary School</td>\n",
       "      <td>John B. Cary Elementary School , Richmond City,VA</td>\n",
       "      <td>37.548</td>\n",
       "      <td>-77.4822</td>\n",
       "    </tr>\n",
       "    <tr>\n",
       "      <th>6</th>\n",
       "      <td>J. L. Francis Elementary School</td>\n",
       "      <td>J. L. Francis Elementary School , Richmond Cit...</td>\n",
       "      <td>37.4769</td>\n",
       "      <td>-77.4891</td>\n",
       "    </tr>\n",
       "    <tr>\n",
       "      <th>7</th>\n",
       "      <td>Linwood Holton Elementary School</td>\n",
       "      <td>Linwood Holton Elementary School , Richmond Ci...</td>\n",
       "      <td>37.5854</td>\n",
       "      <td>-77.4613</td>\n",
       "    </tr>\n",
       "    <tr>\n",
       "      <th>8</th>\n",
       "      <td>Mary Munford Elementary School</td>\n",
       "      <td>Mary Munford Elementary School , Richmond City,VA</td>\n",
       "      <td>37.5634</td>\n",
       "      <td>-77.5</td>\n",
       "    </tr>\n",
       "    <tr>\n",
       "      <th>9</th>\n",
       "      <td>G. H. Reid Elementary School</td>\n",
       "      <td>G. H. Reid Elementary School , Richmond City,VA</td>\n",
       "      <td>37.4891</td>\n",
       "      <td>-77.5087</td>\n",
       "    </tr>\n",
       "    <tr>\n",
       "      <th>10</th>\n",
       "      <td>Summer Hill Elementary School</td>\n",
       "      <td>Summer Hill Elementary School , Richmond City,VA</td>\n",
       "      <td>37.4756</td>\n",
       "      <td>-77.4473</td>\n",
       "    </tr>\n",
       "    <tr>\n",
       "      <th>11</th>\n",
       "      <td>Swansboro Elementary School</td>\n",
       "      <td>Swansboro Elementary School, Richmond City,VA</td>\n",
       "      <td>37.5106</td>\n",
       "      <td>-77.4665</td>\n",
       "    </tr>\n",
       "    <tr>\n",
       "      <th>12</th>\n",
       "      <td>Westover Hills Elementary School</td>\n",
       "      <td>Westover Hills Elementary School, Richmond Cit...</td>\n",
       "      <td>37.5214</td>\n",
       "      <td>-77.4915</td>\n",
       "    </tr>\n",
       "    <tr>\n",
       "      <th>13</th>\n",
       "      <td>William Fox Elementary School</td>\n",
       "      <td>William Fox Elementary School, Richmond City,VA</td>\n",
       "      <td>37.5544</td>\n",
       "      <td>-77.4681</td>\n",
       "    </tr>\n",
       "  </tbody>\n",
       "</table>\n",
       "</div>"
      ],
      "text/plain": [
       "                   Elementary schools  \\\n",
       "0     Barack Obama Elementary School    \n",
       "1          Bellevue Elementary School   \n",
       "2         Blackwell Elementary School   \n",
       "3        Broad Rock Elementary School   \n",
       "4   Fairfield Court Elementary School   \n",
       "5      John B. Cary Elementary School   \n",
       "6     J. L. Francis Elementary School   \n",
       "7    Linwood Holton Elementary School   \n",
       "8      Mary Munford Elementary School   \n",
       "9        G. H. Reid Elementary School   \n",
       "10      Summer Hill Elementary School   \n",
       "11        Swansboro Elementary School   \n",
       "12   Westover Hills Elementary School   \n",
       "13      William Fox Elementary School   \n",
       "\n",
       "                                       School Address      Lat     Long  \n",
       "0   Barack Obama Elementary School , Richmond City,VA  37.5738 -77.4355  \n",
       "1        Bellevue Elementary School, Richmond City,VA  37.5314 -77.4212  \n",
       "2      Blackwell Elementary School , Richmond City,VA  37.5167 -77.4434  \n",
       "3     Broad Rock Elementary School , Richmond City,VA  37.4764 -77.4787  \n",
       "4   Fairfield Court Elementary School , Richmond C...    37.55 -77.4013  \n",
       "5   John B. Cary Elementary School , Richmond City,VA   37.548 -77.4822  \n",
       "6   J. L. Francis Elementary School , Richmond Cit...  37.4769 -77.4891  \n",
       "7   Linwood Holton Elementary School , Richmond Ci...  37.5854 -77.4613  \n",
       "8   Mary Munford Elementary School , Richmond City,VA  37.5634    -77.5  \n",
       "9     G. H. Reid Elementary School , Richmond City,VA  37.4891 -77.5087  \n",
       "10   Summer Hill Elementary School , Richmond City,VA  37.4756 -77.4473  \n",
       "11      Swansboro Elementary School, Richmond City,VA  37.5106 -77.4665  \n",
       "12  Westover Hills Elementary School, Richmond Cit...  37.5214 -77.4915  \n",
       "13    William Fox Elementary School, Richmond City,VA  37.5544 -77.4681  "
      ]
     },
     "execution_count": 11,
     "metadata": {},
     "output_type": "execute_result"
    }
   ],
   "source": [
    "## Fetching latitude and longitude for list of schools using Nominatim\n",
    "## Importing Time parameter. \n",
    "import time\n",
    "for i in range(len(Elem_School)):   \n",
    "    address= Elem_School['School Address'][i]\n",
    "    geolocator = Nominatim(user_agent=\"my-application\")\n",
    "    location = geolocator.geocode(address)\n",
    "    latitude = location.latitude\n",
    "    longitude = location.longitude\n",
    "    Elem_School['Lat'][i]=latitude\n",
    "    Elem_School['Long'][i]=longitude\n",
    "    #print(n,latitude,longitude)\n",
    "    time.sleep(2)\n",
    "\n",
    "print('completed')\n",
    "Elem_School"
   ]
  },
  {
   "cell_type": "markdown",
   "metadata": {},
   "source": [
    "\n",
    "## 3.1 MAP of Richmond showing the location of current Swimming school centres"
   ]
  },
  {
   "cell_type": "markdown",
   "metadata": {},
   "source": [
    "### Popups indicate the name of the SWIM centre"
   ]
  },
  {
   "cell_type": "code",
   "execution_count": 12,
   "metadata": {},
   "outputs": [
    {
     "data": {
      "text/html": [
       "<div style=\"width:100%;\"><div style=\"position:relative;width:100%;height:0;padding-bottom:60%;\"><iframe src=\"data:text/html;charset=utf-8;base64,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\" style=\"position:absolute;width:100%;height:100%;left:0;top:0;border:none !important;\" allowfullscreen webkitallowfullscreen mozallowfullscreen></iframe></div></div>"
      ],
      "text/plain": [
       "<folium.folium.Map at 0x7f655e497a90>"
      ]
     },
     "execution_count": 12,
     "metadata": {},
     "output_type": "execute_result"
    }
   ],
   "source": [
    "# create map of Richmond place  using latitude and longitude values\n",
    "\n",
    "latitude = 37.5385087\n",
    "longitude =  -77.43428\n",
    "map_richmond = folium.Map(location=[latitude, longitude], zoom_start=10)\n",
    "# add markers to map\n",
    "for lat, lng, label in zip(swim_centres['lat'], swim_centres['lng'], swim_centres['name'].astype(str)):\n",
    "    label = folium.Popup(label, parse_html=True)\n",
    "    folium.CircleMarker(\n",
    "        [lat, lng],\n",
    "        number_of_sides=30,\n",
    "        radius=7,\n",
    "        popup=label,\n",
    "        color='blue',\n",
    "        fill_color='#0f0f0f',\n",
    "        fill_opacity=0.6,\n",
    "     parse_html=False).add_to(map_richmond)\n",
    "## Display Richmond Map\n",
    "map_richmond"
   ]
  },
  {
   "cell_type": "markdown",
   "metadata": {},
   "source": [
    "## 3.2 MAP of Richmond showing the location of Elementary schools \n",
    "\n",
    "### Popups Indicate name of the school \n"
   ]
  },
  {
   "cell_type": "code",
   "execution_count": 13,
   "metadata": {},
   "outputs": [
    {
     "data": {
      "text/html": [
       "<div style=\"width:100%;\"><div style=\"position:relative;width:100%;height:0;padding-bottom:60%;\"><iframe src=\"data:text/html;charset=utf-8;base64,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\" style=\"position:absolute;width:100%;height:100%;left:0;top:0;border:none !important;\" allowfullscreen webkitallowfullscreen mozallowfullscreen></iframe></div></div>"
      ],
      "text/plain": [
       "<folium.folium.Map at 0x7f655e49f550>"
      ]
     },
     "execution_count": 13,
     "metadata": {},
     "output_type": "execute_result"
    }
   ],
   "source": [
    "# create map of Richmond place  using latitude and longitude values\n",
    "\n",
    "latitude = 37.5385087\n",
    "longitude =  -77.43428\n",
    "map_richmond = folium.Map(location=[latitude, longitude], zoom_start=11)\n",
    "# Display elementary schools in Richmond Map. \n",
    "\n",
    "for lat, lng, label in zip(Elem_School['Lat'], Elem_School['Long'], Elem_School['Elementary schools'].astype(str)):\n",
    "    label = folium.Popup(label, parse_html=True)\n",
    "    folium.RegularPolygonMarker(\n",
    "        [lat, lng],\n",
    "        number_of_sides=6,\n",
    "        radius=6,\n",
    "        popup=label,\n",
    "        color='red',\n",
    "        fill_color='red',\n",
    "        fill_opacity=2.5,\n",
    "     ).add_to(map_richmond)\n",
    "# Display MAP\n",
    "map_richmond"
   ]
  },
  {
   "cell_type": "markdown",
   "metadata": {},
   "source": [
    "# 4) Results "
   ]
  },
  {
   "cell_type": "markdown",
   "metadata": {},
   "source": [
    "## Consolidating two maps to identify possible new swim school centre \n",
    "   **a) Map of Richmond city with current list of Swim school centres**               \n",
    "   **b) Map of Richmond City with list of Elementary schools** \n",
    "   \n",
    " Blue circles represent Swim School Centres and  red circle represent elementary schools , click on circles for \n",
    " viewing name of school                        \n",
    " \n",
    "**There is a \"ruler\" Icon in the top right corner to measure distance between perticular neighbourhood or school to any Swim School centre.**"
   ]
  },
  {
   "cell_type": "code",
   "execution_count": 15,
   "metadata": {},
   "outputs": [
    {
     "data": {
      "text/html": [
       "<div style=\"width:100%;\"><div style=\"position:relative;width:100%;height:0;padding-bottom:60%;\"><iframe src=\"data:text/html;charset=utf-8;base64,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\" style=\"position:absolute;width:100%;height:100%;left:0;top:0;border:none !important;\" allowfullscreen webkitallowfullscreen mozallowfullscreen></iframe></div></div>"
      ],
      "text/plain": [
       "<folium.folium.Map at 0x7f655e43df60>"
      ]
     },
     "execution_count": 15,
     "metadata": {},
     "output_type": "execute_result"
    }
   ],
   "source": [
    "# map of Richmond place  using latitude and longitude values\n",
    "\n",
    "latitude = 37.5385087\n",
    "longitude =  -77.43428\n",
    "\n",
    "map_richmond = folium.Map(location=[latitude, longitude], zoom_start=11)\n",
    "\n",
    "for lat, lng, label in zip(swim_centres['lat'], swim_centres['lng'], swim_centres['name'].astype(str)):\n",
    "    label = folium.Popup(label, parse_html=True)\n",
    "    folium.CircleMarker(\n",
    "        [lat, lng],\n",
    "        number_of_sides=30,\n",
    "        radius=7,\n",
    "        popup=label,\n",
    "        color='blue',\n",
    "        fill_color='#0f0f0f',\n",
    "        fill_opacity=0.6,\n",
    "     parse_html=False).add_to(map_richmond)\n",
    "    \n",
    "for lat, lng, label in zip(Elem_School['Lat'], Elem_School['Long'], Elem_School['Elementary schools'].astype(str)):\n",
    "    label = folium.Popup(label, parse_html=True)\n",
    "    folium.RegularPolygonMarker(\n",
    "        [lat, lng],\n",
    "        number_of_sides=6,\n",
    "        radius=6,\n",
    "        popup=label,\n",
    "        color='red',\n",
    "        fill_color='red',\n",
    "        fill_opacity=2.5,\n",
    "     ).add_to(map_richmond)\n",
    "    \n",
    "from folium.plugins import MeasureControl\n",
    "map_richmond.add_child(MeasureControl())\n",
    "# Add ruler after merging two maps. \n",
    "from folium.plugins import FloatImage\n",
    "FloatImage(url, bottom=5, left=85).add_to(map_richmond)\n",
    "  \n",
    "map_richmond\n"
   ]
  },
  {
   "cell_type": "markdown",
   "metadata": {},
   "source": [
    "# 5.0 Conclusion"
   ]
  },
  {
   "cell_type": "markdown",
   "metadata": {},
   "source": [
    "## After reviewing consolidated map and comparing the distance with ruler, we have 3 possible locations for opening new Swim centre"
   ]
  },
  {
   "cell_type": "markdown",
   "metadata": {},
   "source": [
    "#### All the 7 SWim schools are concentrated in the North,West,central and sounth of Richmond . \n",
    "#### There is no Swim school in the eastside of richmond. \n",
    "\n",
    "a) ChurchHill North (Near by school Bellevue Elementary School), distance to near by swim school is 10.8 miles \n",
    "\n",
    "b) Highland Park (Near by school Barack Obama Elementary School ) , distance to near by swim school is 5.6 miles\n",
    "\n",
    "c) Washington park (Near by Elementary School Linwood Holton Elementary School) , distance to near by Swim School is 4.91 miles\n",
    "\n",
    "\n",
    "**All these three neighbourhoods from eastside of Richmond are surronded by Schools and have good density of pupils. Best option is to open a centre in Church Hill North , if there are any other Business or Cost constrains Highland Park or Washington park can be considered.**"
   ]
  },
  {
   "cell_type": "markdown",
   "metadata": {},
   "source": [
    "\n",
    "# 5 Discussion"
   ]
  },
  {
   "cell_type": "markdown",
   "metadata": {},
   "source": [
    "## a) This course helped to demonstrate and analytical think about good project(Capstone Lab) \n",
    "## b) Course content helped for a good start to Data Science Carrier"
   ]
  },
  {
   "cell_type": "markdown",
   "metadata": {},
   "source": [
    "# 6 Conclusions"
   ]
  },
  {
   "cell_type": "markdown",
   "metadata": {},
   "source": [
    "### Based on the Data Science analysis report submitted to ABC swimming firm , three neighbourhoods are best options,but if the firm wants to understand further details like availability of commercial space cost and monthly price at which students prefer Swim school..etc\n",
    "\n",
    "### Data Scientist needs to add more parameters in the criteria and analyze further to narrow down detailed oprions."
   ]
  }
 ],
 "metadata": {
  "kernelspec": {
   "display_name": "Python 3",
   "language": "python",
   "name": "python3"
  },
  "language_info": {
   "codemirror_mode": {
    "name": "ipython",
    "version": 3
   },
   "file_extension": ".py",
   "mimetype": "text/x-python",
   "name": "python",
   "nbconvert_exporter": "python",
   "pygments_lexer": "ipython3",
   "version": "3.6.6"
  }
 },
 "nbformat": 4,
 "nbformat_minor": 2
}
